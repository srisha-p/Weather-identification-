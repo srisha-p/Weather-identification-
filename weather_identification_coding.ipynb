{
  "nbformat": 4,
  "nbformat_minor": 0,
  "metadata": {
    "colab": {
      "provenance": [],
      "authorship_tag": "ABX9TyM27A+psJCotLiyp12FXZs0",
      "include_colab_link": true
    },
    "kernelspec": {
      "name": "python3",
      "display_name": "Python 3"
    },
    "language_info": {
      "name": "python"
    }
  },
  "cells": [
    {
      "cell_type": "markdown",
      "metadata": {
        "id": "view-in-github",
        "colab_type": "text"
      },
      "source": [
        "<a href=\"https://colab.research.google.com/github/srisha-p/Weather-identification-/blob/main/weather_identification_coding.ipynb\" target=\"_parent\"><img src=\"https://colab.research.google.com/assets/colab-badge.svg\" alt=\"Open In Colab\"/></a>"
      ]
    },
    {
      "cell_type": "code",
      "execution_count": null,
      "metadata": {
        "id": "9LVnY_WBq0Ze"
      },
      "outputs": [],
      "source": [
        "def identify_weather(temperature, humidity, condition):\n",
        "    condition = condition.lower()\n",
        "    if condition in ['rain', 'storm', 'thunderstorm']:\n",
        "        return \"Rainy weather. Don't forget your umbrella!\"\n",
        "    elif condition in ['snow', 'blizzard']:\n",
        "        return \"Snowy weather. Dress warmly!\"\n",
        "    elif condition in ['clear', 'sunny']:\n",
        "        if temperature > 30:\n",
        "            return \"Hot and sunny.\"\n",
        "        elif temperature < 10:\n",
        "            return \"Cold but sunny.\"\n",
        "        else:\n",
        "            return \"Mild and sunny.\"\n",
        "    elif condition in ['cloudy', 'overcast']:\n",
        "        return \"Cloudy skies ahead.\"\n",
        "    elif condition in ['fog', 'mist']:\n",
        "        return \"Foggy weather. Drive carefully!\"\n",
        "    else:\n",
        "        return \"Weather condition not recognized.\"\n",
        "\n",
        "# Get user input\n",
        "try:\n",
        "    temperature = float(input(\"Enter the temperature in Celsius: \"))\n",
        "    humidity = float(input(\"Enter the humidity percentage: \"))\n",
        "    condition = input(\"Enter the weather condition (e.g., sunny, rain, snow): \")\n",
        "\n",
        "    result = identify_weather(temperature, humidity, condition)\n",
        "    print(f\"Weather Report: {result}\")\n",
        "except ValueError:\n",
        "    print(\"Invalid input. Please enter numeric values for temperature and humidity.\")\n"
      ]
    }
  ]
}